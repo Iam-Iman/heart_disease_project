{
 "cells": [
  {
   "cell_type": "markdown",
   "id": "dc8aebb8",
   "metadata": {},
   "source": [
    "# Deploying model using FastAPI "
   ]
  },
  {
   "cell_type": "code",
   "execution_count": 1,
   "id": "2e1b231d",
   "metadata": {},
   "outputs": [],
   "source": [
    "from fastapi import FastAPI\n",
    "from pydantic import BaseModel\n",
    "import pickle\n",
    "import json\n",
    "import uvicorn\n",
    "from pyngrok import ngrok\n",
    "from fastapi.middleware.cors import CORSMiddleware\n",
    "import nest_asyncio"
   ]
  },
  {
   "cell_type": "code",
   "execution_count": 2,
   "id": "e7573016",
   "metadata": {},
   "outputs": [],
   "source": [
    "app = FastAPI()"
   ]
  },
  {
   "cell_type": "code",
   "execution_count": 3,
   "id": "7ca36d8b",
   "metadata": {},
   "outputs": [],
   "source": [
    "origins = [\"*\"]\n",
    "\n",
    "app.add_middleware(\n",
    "    CORSMiddleware,\n",
    "    allow_origins=origins,\n",
    "    allow_credentials=True,\n",
    "    allow_methods=[\"*\"],\n",
    "    allow_headers=[\"*\"],\n",
    ")"
   ]
  },
  {
   "cell_type": "code",
   "execution_count": 4,
   "id": "f8a6c1cb",
   "metadata": {},
   "outputs": [],
   "source": [
    "\n",
    "class model_input(BaseModel):\n",
    "    \n",
    "    age : int\n",
    "    sex : int \n",
    "    cp : int  \n",
    "    trestbps : int \n",
    "    chol : int  \n",
    "    fbs : int  \n",
    "    restecg : int  \n",
    "    thalach : int  \n",
    "    exang : int  \n",
    "    oldpeak : float\n",
    "    slope : int  \n",
    "    ca : int \n",
    "    thal : int\n",
    "    \n",
    "# load saved model\n",
    "heart_model = pickle.load(open('heart_model.sav', 'rb'))"
   ]
  },
  {
   "cell_type": "code",
   "execution_count": 5,
   "id": "dfc1b03a",
   "metadata": {},
   "outputs": [],
   "source": [
    "@app.post('/heart_disease_prediction')\n",
    "def heart_pred(input_parameters : model_input):\n",
    "    # convert json to dict\n",
    "    input_data = input_parameters.json()\n",
    "    input_dictionary = json.loads(input_data)\n",
    "    # convert dict to list(keys)\n",
    "    age = input_dictionary['age']\n",
    "    gender = input_dictionary['sex']\n",
    "    cp_type = input_dictionary['cp']\n",
    "    resting_bp = input_dictionary['trestbps']\n",
    "    cholesterol = input_dictionary['chol']\n",
    "    fasting_bs = input_dictionary['fbs']\n",
    "    resting_ecg = input_dictionary['restecg']\n",
    "    max_heart_rate = input_dictionary['thalach']\n",
    "    exercise_angina = input_dictionary['exang']\n",
    "    exercise_depression = input_dictionary['oldpeak']\n",
    "    peak_exercise = input_dictionary['slope']\n",
    "    major_vessels = input_dictionary['ca']\n",
    "    failure_type = input_dictionary['thal']\n",
    "    \n",
    "    input_list = [age, gender, cp_type, resting_bp, cholesterol, fasting_bs,\n",
    "                  resting_ecg, max_heart_rate, exercise_angina, exercise_depression,\n",
    "                  peak_exercise, major_vessels, failure_type ]\n",
    "    \n",
    "    prediction = heart_model.predict([input_list])\n",
    "    \n",
    "    if prediction[0] == 0:\n",
    "        return 'Patient does not have heart disease'\n",
    "    else:\n",
    "        return 'Patient has heart problems'"
   ]
  },
  {
   "cell_type": "code",
   "execution_count": null,
   "id": "fe435e97",
   "metadata": {},
   "outputs": [
    {
     "name": "stderr",
     "output_type": "stream",
     "text": [
      "t=2023-03-20T07:33:58+0200 lvl=warn msg=\"can't bind default web address, trying alternatives\" obj=web addr=127.0.0.1:4040\n",
      "INFO:     Started server process [10896]\n",
      "INFO:     Waiting for application startup.\n",
      "INFO:     Application startup complete.\n",
      "INFO:     Uvicorn running on http://127.0.0.1:8000 (Press CTRL+C to quit)\n"
     ]
    },
    {
     "name": "stdout",
     "output_type": "stream",
     "text": [
      "Public URL: http://3b70-102-249-2-81.ngrok.io\n",
      "INFO:     102.249.2.33:0 - \"POST /heart_disease_prediction HTTP/1.1\" 200 OK\n"
     ]
    },
    {
     "name": "stderr",
     "output_type": "stream",
     "text": [
      "C:\\Anaconda\\lib\\site-packages\\sklearn\\base.py:450: UserWarning: X does not have valid feature names, but LogisticRegression was fitted with feature names\n",
      "  warnings.warn(\n",
      "t=2023-03-20T08:29:31+0200 lvl=eror msg=\"heartbeat timeout, terminating session\" obj=csess id=44c3f7a44181 clientid=d433228086226957886fad1428128b3a\n",
      "t=2023-03-20T08:29:32+0200 lvl=eror msg=\"session closed, starting reconnect loop\" obj=csess id=769ef0949316 err=\"session closed\"\n",
      "t=2023-03-20T08:29:32+0200 lvl=eror msg=\"failed to reconnect session\" obj=csess id=769ef0949316 err=\"dial tcp: lookup tunnel.us.ngrok.com: no such host\"\n",
      "t=2023-03-20T08:29:33+0200 lvl=eror msg=\"failed to reconnect session\" obj=csess id=769ef0949316 err=\"dial tcp: lookup tunnel.us.ngrok.com: no such host\"\n",
      "t=2023-03-20T08:29:41+0200 lvl=eror msg=\"failed to reconnect session\" obj=csess id=769ef0949316 err=\"Get \\\"https://dns.google.com/resolve?cd=true&name=tunnel.us.ngrok.com&type=A\\\": dial tcp: lookup dns.google.com: no such host\"\n",
      "t=2023-03-20T08:29:44+0200 lvl=eror msg=\"failed to reconnect session\" obj=csess id=769ef0949316 err=\"Get \\\"https://s3.amazonaws.com/dns.ngrok.com/tunnel.json\\\": dial tcp: lookup s3.amazonaws.com: no such host\"\n",
      "t=2023-03-20T08:29:45+0200 lvl=eror msg=\"failed to reconnect session\" obj=csess id=769ef0949316 err=\"resolved tunnel.us.ngrok.com has no records\"\n",
      "t=2023-03-20T08:29:48+0200 lvl=eror msg=\"failed to reconnect session\" obj=csess id=769ef0949316 err=\"dial tcp: lookup tunnel.us.ngrok.com: no such host\"\n",
      "t=2023-03-20T08:29:50+0200 lvl=eror msg=\"failed to reconnect session\" obj=csess id=769ef0949316 err=\"Get \\\"https://dns.google.com/resolve?cd=true&name=tunnel.us.ngrok.com&type=A\\\": dial tcp: lookup dns.google.com: no such host\"\n",
      "t=2023-03-20T08:29:55+0200 lvl=eror msg=\"failed to reconnect session\" obj=csess id=769ef0949316 err=\"Get \\\"https://s3.amazonaws.com/dns.ngrok.com/tunnel.json\\\": dial tcp: lookup s3.amazonaws.com: no such host\"\n",
      "t=2023-03-20T08:30:01+0200 lvl=eror msg=\"failed to reconnect session\" obj=csess id=769ef0949316 err=\"resolved tunnel.us.ngrok.com has no records\"\n",
      "t=2023-03-20T08:30:08+0200 lvl=eror msg=\"failed to reconnect session\" obj=csess id=769ef0949316 err=\"dial tcp: lookup tunnel.us.ngrok.com: no such host\"\n",
      "t=2023-03-20T08:30:20+0200 lvl=eror msg=\"failed to reconnect session\" obj=csess id=769ef0949316 err=\"dial tcp: lookup tunnel.us.ngrok.com: no such host\"\n",
      "t=2023-03-20T08:30:40+0200 lvl=eror msg=\"failed to reconnect session\" obj=csess id=769ef0949316 err=\"dial tcp: lookup tunnel.us.ngrok.com: no such host\"\n",
      "t=2023-03-20T08:31:06+0200 lvl=eror msg=\"failed to reconnect session\" obj=csess id=769ef0949316 err=\"Get \\\"https://dns.google.com/resolve?cd=true&name=tunnel.us.ngrok.com&type=A\\\": dial tcp: lookup dns.google.com: no such host\"\n",
      "t=2023-03-20T08:31:36+0200 lvl=eror msg=\"failed to reconnect session\" obj=csess id=769ef0949316 err=\"Get \\\"https://s3.amazonaws.com/dns.ngrok.com/tunnel.json\\\": dial tcp: lookup s3.amazonaws.com: no such host\"\n",
      "t=2023-03-20T08:32:06+0200 lvl=eror msg=\"failed to reconnect session\" obj=csess id=769ef0949316 err=\"resolved tunnel.us.ngrok.com has no records\"\n",
      "t=2023-03-20T08:32:36+0200 lvl=eror msg=\"failed to reconnect session\" obj=csess id=769ef0949316 err=\"dial tcp: lookup tunnel.us.ngrok.com: no such host\"\n",
      "t=2023-03-20T08:33:06+0200 lvl=eror msg=\"failed to reconnect session\" obj=csess id=769ef0949316 err=\"Get \\\"https://dns.google.com/resolve?cd=true&name=tunnel.us.ngrok.com&type=AAAA\\\": dial tcp: lookup dns.google.com: no such host\"\n",
      "t=2023-03-20T08:33:36+0200 lvl=eror msg=\"failed to reconnect session\" obj=csess id=769ef0949316 err=\"Get \\\"https://s3.amazonaws.com/dns.ngrok.com/tunnel.json\\\": dial tcp: lookup s3.amazonaws.com: no such host\"\n",
      "t=2023-03-20T08:34:06+0200 lvl=eror msg=\"failed to reconnect session\" obj=csess id=769ef0949316 err=\"resolved tunnel.us.ngrok.com has no records\"\n",
      "t=2023-03-20T08:34:36+0200 lvl=eror msg=\"failed to reconnect session\" obj=csess id=769ef0949316 err=\"dial tcp: lookup tunnel.us.ngrok.com: no such host\"\n",
      "t=2023-03-20T08:35:06+0200 lvl=eror msg=\"failed to reconnect session\" obj=csess id=769ef0949316 err=\"dial tcp: lookup tunnel.us.ngrok.com: no such host\"\n",
      "t=2023-03-20T08:35:36+0200 lvl=eror msg=\"failed to reconnect session\" obj=csess id=769ef0949316 err=\"dial tcp: lookup tunnel.us.ngrok.com: no such host\"\n",
      "C:\\Anaconda\\lib\\site-packages\\sklearn\\base.py:450: UserWarning: X does not have valid feature names, but LogisticRegression was fitted with feature names\n",
      "  warnings.warn(\n"
     ]
    },
    {
     "name": "stdout",
     "output_type": "stream",
     "text": [
      "INFO:     102.249.4.242:0 - \"POST /heart_disease_prediction HTTP/1.1\" 200 OK\n",
      "INFO:     127.0.0.1:54065 - \"POST /heart_disease_prediction HTTP/1.1\" 200 OK\n"
     ]
    },
    {
     "name": "stderr",
     "output_type": "stream",
     "text": [
      "C:\\Anaconda\\lib\\site-packages\\sklearn\\base.py:450: UserWarning: X does not have valid feature names, but LogisticRegression was fitted with feature names\n",
      "  warnings.warn(\n"
     ]
    },
    {
     "name": "stdout",
     "output_type": "stream",
     "text": [
      "INFO:     127.0.0.1:54574 - \"POST /heart_disease_prediction HTTP/1.1\" 200 OK\n"
     ]
    },
    {
     "name": "stderr",
     "output_type": "stream",
     "text": [
      "C:\\Anaconda\\lib\\site-packages\\sklearn\\base.py:450: UserWarning: X does not have valid feature names, but LogisticRegression was fitted with feature names\n",
      "  warnings.warn(\n"
     ]
    },
    {
     "name": "stdout",
     "output_type": "stream",
     "text": [
      "INFO:     127.0.0.1:54627 - \"POST /heart_disease_prediction HTTP/1.1\" 200 OK\n"
     ]
    },
    {
     "name": "stderr",
     "output_type": "stream",
     "text": [
      "C:\\Anaconda\\lib\\site-packages\\sklearn\\base.py:450: UserWarning: X does not have valid feature names, but LogisticRegression was fitted with feature names\n",
      "  warnings.warn(\n"
     ]
    }
   ],
   "source": [
    "# Deploy via proxy URL\n",
    "ngrok_tunnel = ngrok.connect(8000)\n",
    "print('Public URL:', ngrok_tunnel.public_url)\n",
    "nest_asyncio.apply()\n",
    "uvicorn.run(app, port=8000)"
   ]
  },
  {
   "cell_type": "code",
   "execution_count": null,
   "id": "38683805",
   "metadata": {},
   "outputs": [],
   "source": []
  }
 ],
 "metadata": {
  "kernelspec": {
   "display_name": "Python 3 (ipykernel)",
   "language": "python",
   "name": "python3"
  },
  "language_info": {
   "codemirror_mode": {
    "name": "ipython",
    "version": 3
   },
   "file_extension": ".py",
   "mimetype": "text/x-python",
   "name": "python",
   "nbconvert_exporter": "python",
   "pygments_lexer": "ipython3",
   "version": "3.9.12"
  }
 },
 "nbformat": 4,
 "nbformat_minor": 5
}
